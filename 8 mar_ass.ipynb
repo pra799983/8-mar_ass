{
 "cells": [
  {
   "cell_type": "code",
   "execution_count": null,
   "id": "0fc2eb86-3f36-41f4-9525-7a2f3021737a",
   "metadata": {},
   "outputs": [],
   "source": [
    "Q1. What is the Probability density function?"
   ]
  },
  {
   "cell_type": "code",
   "execution_count": null,
   "id": "0f660c61-4b6b-45e1-a048-f2cec0f906b1",
   "metadata": {},
   "outputs": [],
   "source": [
    "The Probability Density Function (PDF) is a function that describes the probability distribution of a continuous random variable. \n",
    "It specifies the likelihood of the variable taking on a particular value or falling within a particular range of values.\n",
    "\n",
    "The PDF is used to characterize the shape of a continuous probability distribution. It provides a relative measure of the likelihood \n",
    "of different outcomes by assigning probabilities to intervals rather than specific values. Unlike the Probability Mass Function (PMF) \n",
    "used for discrete random variables, which assigns probabilities to individual values, the PDF assigns probabilities to intervals.\n",
    "\n",
    "Mathematically, the PDF is defined as the derivative of the cumulative distribution function (CDF) with respect to the variable. It is \n",
    "denoted as f(x), where x is the variable of interest. The PDF satisfies the following properties:\n",
    "\n",
    "Non-negative values: The PDF is non-negative for all values of x.\n",
    "Total area under the curve: The area under the PDF curve over its entire domain is equal to 1, representing the total probability"
   ]
  },
  {
   "cell_type": "code",
   "execution_count": null,
   "id": "ea2ce7b9-d7f5-47cc-a3db-caf248a9e816",
   "metadata": {},
   "outputs": [],
   "source": [
    "Q2. What are the types of Probability distribution?\n"
   ]
  },
  {
   "cell_type": "code",
   "execution_count": null,
   "id": "1ba0a807-5e98-41fc-98f1-b6311e1938f9",
   "metadata": {},
   "outputs": [],
   "source": [
    "There are several types of probability distributions, including:\n",
    "\n",
    "Discrete Probability Distributions:\n",
    "\n",
    "Bernoulli Distribution: Models a single binary outcome with two possible values (e.g., success or failure).\n",
    "Binomial Distribution: Models the number of successes in a fixed number of independent Bernoulli trials.\n",
    "Poisson Distribution: Models the number of events occurring in a fixed interval of time or space.\n",
    "\n",
    "Continuous Probability Distributions:\n",
    "\n",
    "Normal Distribution (Gaussian Distribution): Describes a continuous symmetric distribution characterized by its mean and \n",
    "standard deviation. It is widely used due to the Central Limit Theorem.\n",
    "Uniform Distribution: Represents a constant probability distribution, where all values within a specified interval are equally likely.\n",
    "Exponential Distribution: Models the time between events occurring in a Poisson process, such as the time between phone calls received \n",
    "at a call center.\n",
    "Gamma Distribution: Generalizes the exponential distribution and can be used to model waiting times and durations.\n",
    "Beta Distribution: Represents a family of continuous probability distributions defined on the interval [0, 1] and is often used to model\n",
    "probabilities or proportions.\n",
    "\n",
    "Multivariate Probability Distributions:\n",
    "\n",
    "Multinomial Distribution: Generalizes the binomial distribution to multiple categories or outcomes.\n",
    "Multivariate Normal Distribution: Extends the normal distribution to multiple dimensions, where each dimension follows a normal\n",
    "distribution, and the variables may be correlated."
   ]
  },
  {
   "cell_type": "code",
   "execution_count": null,
   "id": "99b54b09-3610-4c7b-8fb5-37acb8df7460",
   "metadata": {},
   "outputs": [],
   "source": [
    "Q3. Write a Python function to calculate the probability density function of a normal distribution with\n",
    "given mean and standard deviation at a given point."
   ]
  },
  {
   "cell_type": "code",
   "execution_count": 1,
   "id": "6f4c8d70-0be0-4dfc-adc2-2d25d7e24252",
   "metadata": {},
   "outputs": [],
   "source": [
    "import math\n",
    "\n",
    "def normal_pdf(x, mean, std_dev):\n",
    "    coefficient = 1 / (std_dev * math.sqrt(2 * math.pi))\n",
    "    exponent = -((x - mean) ** 2) / (2 * std_dev ** 2)\n",
    "    pdf = coefficient * math.exp(exponent)\n",
    "    return pdf\n"
   ]
  },
  {
   "cell_type": "code",
   "execution_count": 5,
   "id": "acf861ad-9182-4547-967f-2041dc8fb696",
   "metadata": {},
   "outputs": [
    {
     "data": {
      "text/plain": [
       "1.0104542167073785e-14"
      ]
     },
     "execution_count": 5,
     "metadata": {},
     "output_type": "execute_result"
    }
   ],
   "source": [
    "normal_pdf(5,1,0.5)"
   ]
  },
  {
   "cell_type": "code",
   "execution_count": null,
   "id": "6378831f-b266-4d8e-bc4f-f8cc21a4e5a3",
   "metadata": {},
   "outputs": [],
   "source": [
    "Q4. What are the properties of Binomial distribution? Give two examples of events where binomial\n",
    "distribution can be applied."
   ]
  },
  {
   "cell_type": "code",
   "execution_count": null,
   "id": "d0680b4a-c79f-4e6b-a5bf-6dd3db58e397",
   "metadata": {},
   "outputs": [],
   "source": [
    "The properties of the Binomial distribution are as follows:\n",
    "\n",
    "Fixed Number of Trials: The binomial distribution is based on a fixed number of independent trials, denoted by 'n'. Each trial is either \n",
    "a success or a failure.\n",
    "\n",
    "Independent Trials: Each trial in the binomial distribution is assumed to be independent, meaning the outcome of one trial does not affect\n",
    "the outcome of another.\n",
    "\n",
    "Two Possible Outcomes: Each trial in the binomial distribution has two possible outcomes, typically labeled as success and failure. These\n",
    "outcomes are mutually exclusive.\n",
    "\n",
    "Constant Probability of Success: The probability of success, denoted by 'p', remains constant for each trial. The probability of failure \n",
    "is then given by '1 - p'.\n",
    "\n",
    "Discrete Distribution: The binomial distribution is a discrete probability distribution, meaning it describes the probabilities of discrete\n",
    "outcomes (e.g., the number of successes).\n",
    "\n",
    "Examples of events where the binomial distribution can be applied are:\n",
    "\n",
    "Coin Flips: Consider a series of coin flips, where each flip is either a 'heads' or 'tails'. If we are interested in the number of heads\n",
    "obtained in a fixed number of flips (e.g., 10 coin flips), the binomial distribution can be applied.\n",
    "\n",
    "Drug Testing: In a drug trial, we may be interested in determining the number of patients who respond positively to a new medication.\n",
    "If the probability of response remains constant across patients, and the patients are independently treated, the binomial distribution \n",
    "can be used to model the number of successes (responders) out of a fixed number of patients.\n",
    "\n",
    "In both these examples, we have a fixed number of independent trials with two possible outcomes (success or failure), and a constant\n",
    "probability of success for each trial, making the binomial distribution an appropriate choice."
   ]
  },
  {
   "cell_type": "code",
   "execution_count": null,
   "id": "159cfb67-c710-493f-8e0c-7dab08e15255",
   "metadata": {},
   "outputs": [],
   "source": [
    "Q5. Generate a random sample of size 1000 from a binomial distribution with probability of success 0.4\n",
    "and plot a histogram of the results using matplotlib."
   ]
  },
  {
   "cell_type": "code",
   "execution_count": 6,
   "id": "b677ce8c-ca65-486c-9547-b4feb24100ef",
   "metadata": {},
   "outputs": [
    {
     "data": {
      "image/png": "[encoded data removed]",
      "text/plain": [
       "<Figure size 640x480 with 1 Axes>"
      ]
     },
     "metadata": {},
     "output_type": "display_data"
    }
   ],
   "source": [
    "import numpy as np\n",
    "import matplotlib.pyplot as plt\n",
    "\n",
    "# Set the parameters\n",
    "n = 1000  # Number of trials\n",
    "p = 0.4  # Probability of success\n",
    "\n",
    "# Generate the random sample\n",
    "sample = np.random.binomial(n, p, size=1000)\n",
    "\n",
    "# Plot the histogram\n",
    "plt.hist(sample, bins=20, edgecolor='black')\n",
    "plt.xlabel('Number of Successes')\n",
    "plt.ylabel('Frequency')\n",
    "plt.title('Histogram of Binomial Distribution')\n",
    "plt.show()"
   ]
  },
  {
   "cell_type": "code",
   "execution_count": null,
   "id": "e666bb77-59c1-4dea-b58c-9bc675ed2ded",
   "metadata": {},
   "outputs": [],
   "source": [
    "Q6. Write a Python function to calculate the cumulative distribution function of a Poisson distribution\n",
    "with given mean at a given point."
   ]
  },
  {
   "cell_type": "code",
   "execution_count": 7,
   "id": "101b924c-0b23-4ad6-82fb-c85fd10901d8",
   "metadata": {},
   "outputs": [],
   "source": [
    "import math\n",
    "\n",
    "def poisson_cdf(k, mean):\n",
    "    cdf = 0.0\n",
    "    for i in range(k + 1):\n",
    "        cdf += math.exp(-mean) * (mean ** i) / math.factorial(i)\n",
    "    return cdf"
   ]
  },
  {
   "cell_type": "code",
   "execution_count": 8,
   "id": "10c16cdf-2f58-4c0d-a71e-395a5818a4bd",
   "metadata": {},
   "outputs": [
    {
     "data": {
      "text/plain": [
       "0.7575761331330659"
      ]
     },
     "execution_count": 8,
     "metadata": {},
     "output_type": "execute_result"
    }
   ],
   "source": [
    "poisson_cdf(3,2.5)"
   ]
  },
  {
   "cell_type": "code",
   "execution_count": null,
   "id": "161af7da-29d6-44e9-bee1-8340cbeeb7a1",
   "metadata": {},
   "outputs": [],
   "source": [
    "Q7. How Binomial distribution different from Poisson distribution?"
   ]
  },
  {
   "cell_type": "code",
   "execution_count": null,
   "id": "365e3264-ed55-4327-993e-8d4174984ca4",
   "metadata": {},
   "outputs": [],
   "source": [
    "The Binomial distribution and the Poisson distribution are both probability distributions that are used to model discrete events.\n",
    "However, they have different characteristics and are applicable in different situations. Here are the key differences between the Binomial \n",
    "distribution and the Poisson distribution:\n",
    "\n",
    "Nature of Events:\n",
    "\n",
    "Binomial Distribution: The Binomial distribution models a fixed number of independent trials, each with two possible outcomes (success or \n",
    "                                                                                                                               failure).\n",
    "Poisson Distribution: The Poisson distribution models the number of events occurring in a fixed interval of time or space.\n",
    "Parameters:\n",
    "\n",
    "Binomial Distribution: The Binomial distribution is characterized by two parameters: the number of trials (n) and the probability of\n",
    "success (p).\n",
    "Poisson Distribution: The Poisson distribution is characterized by a single parameter, the average rate or intensity of events (λ).\n",
    "Discrete vs Continuous:\n",
    "\n",
    "Binomial Distribution: The Binomial distribution is a discrete probability distribution, as it deals with a fixed number of discrete \n",
    "events (number of successes).\n",
    "Poisson Distribution: The Poisson distribution is also a discrete probability distribution, but it deals with the number of events \n",
    "occurring in a continuous interval.\n",
    "Independence of Events:\n",
    "\n",
    "Binomial Distribution: The trials in the Binomial distribution are assumed to be independent, meaning the outcome of one trial does not \n",
    "affect the outcome of another.\n",
    "Poisson Distribution: The Poisson distribution assumes events occur independently in the given interval, such as the arrival of customers \n",
    "at a store or the occurrence of earthquakes."
   ]
  },
  {
   "cell_type": "code",
   "execution_count": null,
   "id": "c1378b46-912a-4203-a94d-6f9e130f13ee",
   "metadata": {},
   "outputs": [],
   "source": [
    "Q8. Generate a random sample of size 1000 from a Poisson distribution with mean 5 and calculate the\n",
    "sample mean and variance."
   ]
  },
  {
   "cell_type": "code",
   "execution_count": 9,
   "id": "b4a45a6b-61dc-48ae-9cfc-91b04c37adba",
   "metadata": {},
   "outputs": [
    {
     "name": "stdout",
     "output_type": "stream",
     "text": [
      "Sample Mean: 5.003\n",
      "Sample Variance: 4.854991\n"
     ]
    }
   ],
   "source": [
    "import numpy as np\n",
    "\n",
    "# Set the parameters\n",
    "mean = 5\n",
    "sample_size = 1000\n",
    "\n",
    "# Generate the random sample\n",
    "sample = np.random.poisson(mean, size=sample_size)\n",
    "\n",
    "# Calculate the sample mean and variance\n",
    "sample_mean = np.mean(sample)\n",
    "sample_variance = np.var(sample)\n",
    "\n",
    "# Print the results\n",
    "print(\"Sample Mean:\", sample_mean)\n",
    "print(\"Sample Variance:\", sample_variance)\n"
   ]
  },
  {
   "cell_type": "code",
   "execution_count": null,
   "id": "1fd2324a-ccdd-4519-aa80-e9987761c60f",
   "metadata": {},
   "outputs": [],
   "source": [
    "\n",
    "Q9. How mean and variance are related in Binomial distribution and Poisson distribution?"
   ]
  },
  {
   "cell_type": "code",
   "execution_count": null,
   "id": "bf19eb78-683f-42f2-92f9-7d2695cf511a",
   "metadata": {},
   "outputs": [],
   "source": [
    "\n",
    "In both the Binomial distribution and the Poisson distribution, the mean and variance are related, but the specific relationship differs\n",
    "between the two distributions.\n",
    "\n",
    "For the Binomial distribution:\n",
    "\n",
    "Mean: The mean of a Binomial distribution is given by the product of the number of trials (n) and the probability of success (p).\n",
    "In formula form, the mean is represented as μ = n * p.\n",
    "Variance: The variance of a Binomial distribution is given by the product of the number of trials (n), the probability of success (p),\n",
    "and the probability of failure (q = 1 - p). In formula form, the variance is represented as σ^2 = n * p * q.\n",
    "The relationship between the mean and variance in the Binomial distribution is such that the variance increases with increasing values \n",
    "of n and/or p. As the number of trials or the probability of success increases, the distribution becomes more spread out, resulting in \n",
    "a larger variance.\n",
    "\n",
    "For the Poisson distribution:\n",
    "\n",
    "Mean: The mean of a Poisson distribution is equal to the average rate or intensity of events occurring in a fixed interval.\n",
    "It is represented by the parameter λ.\n",
    "Variance: The variance of a Poisson distribution is also equal to the mean, which means the variance is equal to λ. In formula form, the\n",
    "variance is represented as σ^2 = λ.\n",
    "In the Poisson distribution, the mean and variance are equal, indicating that the spread of the distribution is solely determined by the \n",
    "mean. As the mean (λ) increases, the distribution becomes more spread out, resulting in a larger variance"
   ]
  },
  {
   "cell_type": "code",
   "execution_count": null,
   "id": "ed578650-9677-463e-9a24-90d949523cd8",
   "metadata": {},
   "outputs": [],
   "source": [
    "Q10. In normal distribution with respect to mean position, where does the least frequent data appear?"
   ]
  },
  {
   "cell_type": "code",
   "execution_count": null,
   "id": "2063413e-c25c-4186-8507-0f353323accd",
   "metadata": {},
   "outputs": [],
   "source": []
  }
 ],
 "metadata": {
  "kernelspec": {
   "display_name": "Python 3 (ipykernel)",
   "language": "python",
   "name": "python3"
  },
  "language_info": {
   "codemirror_mode": {
    "name": "ipython",
    "version": 3
   },
   "file_extension": ".py",
   "mimetype": "text/x-python",
   "name": "python",
   "nbconvert_exporter": "python",
   "pygments_lexer": "ipython3",
   "version": "3.10.8"
  }
 },
 "nbformat": 4,
 "nbformat_minor": 5
}
